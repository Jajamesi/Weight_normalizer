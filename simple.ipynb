{
 "cells": [
  {
   "metadata": {},
   "cell_type": "markdown",
   "source": "# NB to normalize weight coefficients that are over threshold",
   "id": "8a77807f92f26ee"
  },
  {
   "metadata": {},
   "cell_type": "code",
   "source": [
    "# Import libraries\n",
    "import pydataprocessing as dp"
   ],
   "id": "7df9140457caed5e",
   "outputs": [],
   "execution_count": null
  },
  {
   "metadata": {},
   "cell_type": "markdown",
   "source": "### INPUTS",
   "id": "2e44cfe2f556cba1"
  },
  {
   "metadata": {
    "ExecuteTime": {
     "end_time": "2024-10-31T10:05:51.391921Z",
     "start_time": "2024-10-31T10:05:51.373789Z"
    }
   },
   "cell_type": "code",
   "source": [
    "file_name = \"poll_10789 (3)_wt_wt (1).sav\"\n",
    "wt_col = \"wt_right\"\n",
    "trshld = 4.99"
   ],
   "id": "75e4a5301fe6dea2",
   "outputs": [],
   "execution_count": 1
  },
  {
   "metadata": {},
   "cell_type": "markdown",
   "source": "### PROCESSING",
   "id": "62a8c026dc794d85"
  },
  {
   "metadata": {},
   "cell_type": "code",
   "source": "df, meta = dp.read_spss(f\"inputs/{file_name}\")",
   "id": "3ca5fe85372599a0",
   "outputs": [],
   "execution_count": null
  },
  {
   "metadata": {},
   "cell_type": "code",
   "source": [
    "# Step 1: Calculate the exceed sum (difference of values above trshld)\n",
    "exceed_sum = df.loc[df[wt_col] > trshld, wt_col].sum() - trshld * len(df[df[wt_col] > trshld])"
   ],
   "id": "69a6b338a0d5b43a",
   "outputs": [],
   "execution_count": null
  },
  {
   "metadata": {},
   "cell_type": "code",
   "source": [
    "# Step 2: Cap values above trshld\n",
    "df[wt_col] = df[wt_col].apply(lambda x: min(x, trshld))"
   ],
   "id": "dbe0502090681e00",
   "outputs": [],
   "execution_count": null
  },
  {
   "metadata": {},
   "cell_type": "code",
   "source": [
    "# Step 3: Distribute the exceed sum equally among values <= trshld\n",
    "below_threshold_count = len(df[df[wt_col] < trshld])\n",
    "distribution_value = exceed_sum / below_threshold_count\n",
    "df[wt_col] += df[wt_col].apply(lambda x: distribution_value if x < trshld else 0)"
   ],
   "id": "7e4e9ab6ef3f56ac",
   "outputs": [],
   "execution_count": null
  },
  {
   "metadata": {},
   "cell_type": "markdown",
   "source": "## EXPORT",
   "id": "82f1c4bb4aaa16f3"
  },
  {
   "metadata": {},
   "cell_type": "code",
   "source": [
    "dp.write_spss(\n",
    "    df,\n",
    "    meta,\n",
    "    \"\",\n",
    "    f\"{''.join(file_name.split('.')[:-1])}_done\"\n",
    ")"
   ],
   "id": "58cf65e9a19672ac",
   "outputs": [],
   "execution_count": null
  }
 ],
 "metadata": {
  "kernelspec": {
   "display_name": "Python 3",
   "language": "python",
   "name": "python3"
  },
  "language_info": {
   "codemirror_mode": {
    "name": "ipython",
    "version": 2
   },
   "file_extension": ".py",
   "mimetype": "text/x-python",
   "name": "python",
   "nbconvert_exporter": "python",
   "pygments_lexer": "ipython2",
   "version": "2.7.6"
  }
 },
 "nbformat": 4,
 "nbformat_minor": 5
}
